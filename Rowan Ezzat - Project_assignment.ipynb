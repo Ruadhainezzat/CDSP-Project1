{
 "cells": [
  {
   "cell_type": "markdown",
   "metadata": {},
   "source": [
    "# Project 1:\n",
    "    - using thanos backup images, put them inside universe directory\n",
    "    - loop through the files inside the directory\n",
    "        - for each file in the directory\n",
    "            - generate a random name from the english letters - google list of english letters in python -\n",
    "            - rename the images inside the `universe` directory to the generated one "
   ]
  },
  {
   "cell_type": "code",
   "execution_count": 2,
   "metadata": {},
   "outputs": [],
   "source": [
    "import os\n",
    "from random import choice\n",
    "from string import ascii_letters"
   ]
  },
  {
   "cell_type": "markdown",
   "metadata": {},
   "source": [
    "Generate a random name from english letters:"
   ]
  },
  {
   "cell_type": "code",
   "execution_count": 3,
   "metadata": {},
   "outputs": [],
   "source": [
    "def get_random_name():\n",
    "    random_name = ''.join((choice(ascii_letters) for i in range(10)))\n",
    "    return (random_name+'.png')"
   ]
  },
  {
   "cell_type": "markdown",
   "metadata": {},
   "source": [
    "Loop through the files inside the directory to rename the images inside the  `universe` directory to the generated one:"
   ]
  },
  {
   "cell_type": "code",
   "execution_count": 6,
   "metadata": {},
   "outputs": [],
   "source": [
    "folder = r'F:\\\\Materials\\\\Diplomas\\\\Data Science Diploma\\\\Projects\\\\Project 1\\\\Universe\\\\'\n",
    "\n",
    "for file in os.listdir(folder):\n",
    "    old_name = folder + file\n",
    "    new_name = folder + get_random_name()\n",
    "    os.rename(old_name,new_name)"
   ]
  },
  {
   "cell_type": "code",
   "execution_count": 7,
   "metadata": {},
   "outputs": [
    {
     "data": {
      "text/plain": [
       "50"
      ]
     },
     "execution_count": 7,
     "metadata": {},
     "output_type": "execute_result"
    }
   ],
   "source": [
    "len(os.listdir(folder))"
   ]
  }
 ],
 "metadata": {
  "interpreter": {
   "hash": "7cf4a9f635fbb79ec2e53360684cb5d7ee17dad3eee7269cefa88497cf9575f0"
  },
  "kernelspec": {
   "display_name": "Python 3.7.6 ('base')",
   "language": "python",
   "name": "python3"
  },
  "language_info": {
   "codemirror_mode": {
    "name": "ipython",
    "version": 3
   },
   "file_extension": ".py",
   "mimetype": "text/x-python",
   "name": "python",
   "nbconvert_exporter": "python",
   "pygments_lexer": "ipython3",
   "version": "3.7.6"
  },
  "orig_nbformat": 4
 },
 "nbformat": 4,
 "nbformat_minor": 2
}
